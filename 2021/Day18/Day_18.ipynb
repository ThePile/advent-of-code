{
 "cells": [
  {
   "cell_type": "code",
   "execution_count": 1,
   "id": "280c6c82-089a-4300-8f2c-62b8578731fc",
   "metadata": {},
   "outputs": [],
   "source": [
    "import re"
   ]
  },
  {
   "cell_type": "code",
   "execution_count": 2,
   "id": "4808603a-ec11-4cda-9ecf-fd00248dae7b",
   "metadata": {},
   "outputs": [],
   "source": [
    "#input_file = open('Input.txt', 'r')\n",
    "#input_file = open('Test.txt', 'r')\n",
    "#lines = input_file.readlines()"
   ]
  },
  {
   "cell_type": "code",
   "execution_count": 3,
   "id": "e82b38e6-1d44-4ef3-8d03-49f084c7d1e2",
   "metadata": {},
   "outputs": [],
   "source": [
    "def add_pair(left, right):\n",
    "    return \"[\" + left + \",\" + right + \"]\""
   ]
  },
  {
   "cell_type": "code",
   "execution_count": 4,
   "id": "2494b348-3eea-4327-9160-55db67e632f9",
   "metadata": {},
   "outputs": [
    {
     "data": {
      "text/plain": [
       "'[[[[[4,3],4],4],[7,[[8,4],9]]],[1,1]]'"
      ]
     },
     "execution_count": 4,
     "metadata": {},
     "output_type": "execute_result"
    }
   ],
   "source": [
    "add_pair(\"[[[[4,3],4],4],[7,[[8,4],9]]]\", \"[1,1]\")"
   ]
  },
  {
   "cell_type": "code",
   "execution_count": 5,
   "id": "be228d94-8f65-4d88-823d-748c2cc3939a",
   "metadata": {},
   "outputs": [],
   "source": [
    "def detect_explode(pair):\n",
    "    sum_open = 0    \n",
    "    current_pair = \"\"\n",
    "    explode = False\n",
    "    first_ex = -1\n",
    "    for i in range(0, len(pair)):\n",
    "        p = pair[i]\n",
    "        if (p in ['[', ']']):\n",
    "            if p == '[':\n",
    "                sum_open = sum_open + 1                        \n",
    "            if p == ']':            \n",
    "                sum_open = sum_open - 1\n",
    "            if sum_open == 5:\n",
    "                #print(\"Explode at \" + str(i+1))\n",
    "                explode = True\n",
    "            if (explode == True and sum_open == 4):\n",
    "                current_pair = current_pair + p\n",
    "                explode = False\n",
    "                break\n",
    "        if explode == True:\n",
    "            if first_ex == -1:\n",
    "                first_ex = i\n",
    "            current_pair = current_pair + p\n",
    "    return current_pair, first_ex"
   ]
  },
  {
   "cell_type": "code",
   "execution_count": 6,
   "id": "71f10667-876f-4863-ba47-f9c5c3ee7912",
   "metadata": {},
   "outputs": [],
   "source": [
    "number_list =['0','1','2','3','4','5','6','7','8','9']"
   ]
  },
  {
   "cell_type": "code",
   "execution_count": 41,
   "id": "23515731-815e-42fb-99a4-968b05b75496",
   "metadata": {},
   "outputs": [],
   "source": [
    "def find_after(text, to_add, reverse = False):\n",
    "    result = text\n",
    "    val_start = -1\n",
    "    val_end = -1\n",
    "    for i in range(0, len(text)):\n",
    "        #if i >= begin:\n",
    "        if (text[i] in number_list):\n",
    "            if (val_start == -1):\n",
    "                val_start = i\n",
    "        elif text[i] in [',', ']', '[']:\n",
    "            if (val_start > 0):\n",
    "                val_end = i\n",
    "                aaa = str(int(text[val_start:val_end]) + int(to_add))\n",
    "                if reverse == True:                    \n",
    "                    aaa = aaa[::-1]\n",
    "                result = text[:val_start] + aaa + text[val_end:]\n",
    "                break\n",
    "    return result"
   ]
  },
  {
   "cell_type": "code",
   "execution_count": 45,
   "id": "3ba354a6-f31d-408e-9c17-bf34ce03c89d",
   "metadata": {},
   "outputs": [],
   "source": [
    "def find_before(text, to_add):\n",
    "    reverse = text[::-1]\n",
    "    #print(reverse)\n",
    "    result = find_after(reverse, to_add, True)\n",
    "    #print(result)\n",
    "    return result[::-1]"
   ]
  },
  {
   "cell_type": "code",
   "execution_count": 46,
   "id": "c2ec5cf9-eed8-4876-b32a-3f5c517da581",
   "metadata": {},
   "outputs": [
    {
     "name": "stdout",
     "output_type": "stream",
     "text": [
      "[[[[[18,3],4],4],[7,[[8,4],9]]],[1,1]]\n"
     ]
    }
   ],
   "source": [
    "print(find_after(\"[[[[[4,3],4],4],[7,[[8,4],9]]],[1,1]]\", 14))"
   ]
  },
  {
   "cell_type": "code",
   "execution_count": 47,
   "id": "b7cf7686-8a65-40a9-a56b-9c364085a82d",
   "metadata": {},
   "outputs": [
    {
     "name": "stdout",
     "output_type": "stream",
     "text": [
      "[[[[[4,3],4],4],[7,[[8,4],9]]],[1,15]]\n"
     ]
    }
   ],
   "source": [
    "print(find_before(\"[[[[[4,3],4],4],[7,[[8,4],9]]],[1,1]]\", 14))"
   ]
  },
  {
   "cell_type": "code",
   "execution_count": 49,
   "id": "2209a13a-415e-4433-8460-7fc5a0b40257",
   "metadata": {},
   "outputs": [],
   "source": [
    "def do_explode(pair, current_pair, first_ex):\n",
    "    last_ex = first_ex + len(current_pair)\n",
    "    new_line = pair[:first_ex] + \"0\" + pair[last_ex:]\n",
    "    numbers = current_pair.replace('[', '').replace(']','').split(',')\n",
    "    new_before = find_before(pair[:first_ex], numbers[0])\n",
    "    new_after = find_after(pair[last_ex:], numbers[1])  \n",
    "    return new_before + \"0\" + new_after"
   ]
  },
  {
   "cell_type": "raw",
   "id": "8c25b9a1-28f0-49b8-8c1a-c24d49efdd82",
   "metadata": {},
   "source": [
    "AAA [[[[0,7],4],[7,[[8,4],9]]],[1,1]]\n",
    "AAA [[[[0,7],4],[7,[0,9]]],[1,1]]\n",
    "[[[[0,7],4],[7,[[8,4],9]]],[1,1]] [8,4] 16 [[[[0,7],4],[15,[4,9]]],[1,1]]"
   ]
  },
  {
   "cell_type": "code",
   "execution_count": 50,
   "id": "49d05a4b-8f38-4aba-aeae-610fbce2325e",
   "metadata": {},
   "outputs": [],
   "source": [
    "test_inputs = [\n",
    "    \"[[[[[4,3],4],4],[7,[[8,4],9]]],[1,1]]\",\n",
    "    \"[[[[[1,1],[2,2]],[3,3]],[4,4]],[5,5]]\",\n",
    "    \"[[[[[9,8],1],2],3],4]\",\n",
    "    \"[7,[6,[5,[4,[3,2]]]]]\",\n",
    "    \"[[6,[5,[4,[3,2]]]],1]\",\n",
    "    \"[[3,[2,[1,[7,3]]]],[6,[5,[4,[3,2]]]]]\",\n",
    "    \"[[3,[2,[8,0]]],[9,[5,[4,[3,2]]]]]\"\n",
    "]"
   ]
  },
  {
   "cell_type": "code",
   "execution_count": 55,
   "id": "a45a700d-d762-494b-b5db-ce3ea63ec025",
   "metadata": {},
   "outputs": [
    {
     "name": "stdout",
     "output_type": "stream",
     "text": [
      "[[[[[4,3],4],4],[7,[[8,4],9]]],[1,1]] [4,3] 4 [[[[0,7],4],[7,[[8,4],9]]],[1,1]]\n",
      "---\n",
      "[[[[0,7],4],[7,[[8,4],9]]],[1,1]] [8,4] 16 [[[[0,7],4],[15,[0,13]]],[1,1]]\n",
      "---\n",
      "[[[[[1,1],[2,2]],[3,3]],[4,4]],[5,5]] [1,1] 4 [[[[0,[3,2]],[3,3]],[4,4]],[5,5]]\n",
      "---\n",
      "[[[[0,[3,2]],[3,3]],[4,4]],[5,5]] [3,2] 6 [[[[3,0],[5,3]],[4,4]],[5,5]]\n",
      "---\n",
      "[[[[[9,8],1],2],3],4] [9,8] 4 [[[[0,9],2],3],4]\n",
      "---\n",
      "[7,[6,[5,[4,[3,2]]]]] [3,2] 12 [7,[6,[5,[7,0]]]]\n",
      "---\n",
      "[[6,[5,[4,[3,2]]]],1] [3,2] 10 [[6,[5,[7,0]]],3]\n",
      "---\n",
      "[[3,[2,[1,[7,3]]]],[6,[5,[4,[3,2]]]]] [7,3] 10 [[3,[2,[8,0]]],[9,[5,[4,[3,2]]]]]\n",
      "---\n",
      "[[3,[2,[8,0]]],[9,[5,[4,[3,2]]]]] [3,2] 24 [[3,[2,[8,0]]],[9,[5,[7,0]]]]\n",
      "---\n",
      "[[3,[2,[8,0]]],[9,[5,[4,[3,2]]]]] [3,2] 24 [[3,[2,[8,0]]],[9,[5,[7,0]]]]\n",
      "---\n"
     ]
    }
   ],
   "source": [
    "for t in test_inputs:\n",
    "    run(t)"
   ]
  },
  {
   "cell_type": "code",
   "execution_count": 66,
   "id": "023beca4-8b67-4359-ba13-83a36509c5aa",
   "metadata": {},
   "outputs": [],
   "source": [
    "def run(t):\n",
    "    new_pair = t\n",
    "    current_pair, first_ex = detect_explode(new_pair)\n",
    "    loop = first_ex > 0\n",
    "    while loop:        \n",
    "        previous = new_pair\n",
    "        new_pair = do_explode(new_pair, current_pair, first_ex)\n",
    "        print(previous, current_pair, first_ex, new_pair)\n",
    "        current_pair, first_ex = detect_explode(new_pair)\n",
    "        print(\"---\")\n",
    "        loop = first_ex > 0\n",
    "    return new_pair"
   ]
  },
  {
   "cell_type": "code",
   "execution_count": 67,
   "id": "b8adefcc-c7e7-4204-b982-6272bd956151",
   "metadata": {},
   "outputs": [],
   "source": [
    "list_input = ['[1,1]','[2,2]','[3,3]','[4,4]','[5,5]','[6,6]']"
   ]
  },
  {
   "cell_type": "code",
   "execution_count": 70,
   "id": "b990af20-2faf-4e5c-80e6-050b6ce51e65",
   "metadata": {},
   "outputs": [],
   "source": [
    "def split(pair):\n",
    "    res = \"\"\n",
    "    double_d = False\n",
    "    for i in range(0, len(pair)):\n",
    "        if (double_d == True):\n",
    "            double_d = False\n",
    "        else:\n",
    "            if (pair[i] in number_list):\n",
    "                if (pair[i+1] in number_list):\n",
    "                    value = int(pair[i] + pair[i+1])\n",
    "                    res = res + '[' + str(int(value/2)) + ',' + str(value - int(value/2)) + ']' \n",
    "                    double_d = True\n",
    "                else:\n",
    "                    res = res + pair[i]\n",
    "            else:        \n",
    "                res = res + pair[i]\n",
    "    return res"
   ]
  },
  {
   "cell_type": "code",
   "execution_count": 73,
   "id": "7a05d733-ef6a-48b6-b6b8-d2771bdfcaa2",
   "metadata": {},
   "outputs": [
    {
     "name": "stdout",
     "output_type": "stream",
     "text": [
      "[[[5,5],3], [[7,8],[3,4]]]\n"
     ]
    }
   ],
   "source": [
    "print(split('[[10,3], [15,[3,4]]]'))"
   ]
  },
  {
   "cell_type": "code",
   "execution_count": 74,
   "id": "73a32ec0-0cd0-4764-ba51-0204ce25f78e",
   "metadata": {},
   "outputs": [
    {
     "name": "stdout",
     "output_type": "stream",
     "text": [
      "---\n",
      "---\n",
      "[[[[[1,1],[2,2]],[3,3]],[4,4]],[5,5]] [1,1] 4 [[[[0,[3,2]],[3,3]],[4,4]],[5,5]]\n",
      "---\n",
      "[[[[0,[3,2]],[3,3]],[4,4]],[5,5]] [3,2] 6 [[[[3,0],[5,3]],[4,4]],[5,5]]\n",
      "---\n",
      "---\n",
      "[[[[[3,0],[5,3]],[4,4]],[5,5]],[6,6]] [3,0] 4 [[[[0,[5,3]],[4,4]],[5,5]],[6,6]]\n",
      "---\n",
      "[[[[0,[5,3]],[4,4]],[5,5]],[6,6]] [5,3] 6 [[[[5,0],[7,4]],[5,5]],[6,6]]\n",
      "---\n",
      "---\n",
      "[[[[5,0],[7,4]],[5,5]],[6,6]]\n"
     ]
    }
   ],
   "source": [
    "res = add_pair(list_input[0], list_input[1])\n",
    "for i in range(2, len(list_input)):\n",
    "    res = add_pair(res, list_input[i])\n",
    "    #print(\"Before run\", res)\n",
    "    res = run(res)\n",
    "    res = split(res)\n",
    "    #print(\"Res\", res)\n",
    "    print(\"---\")\n",
    "print(res)"
   ]
  },
  {
   "cell_type": "code",
   "execution_count": null,
   "id": "f9549ba6-7666-400f-86b9-acf0948af3e3",
   "metadata": {},
   "outputs": [],
   "source": []
  },
  {
   "cell_type": "code",
   "execution_count": null,
   "id": "a8976d4f-a65d-444f-a9de-b9f3db31f095",
   "metadata": {},
   "outputs": [],
   "source": []
  }
 ],
 "metadata": {
  "kernelspec": {
   "display_name": "Python 3 (ipykernel)",
   "language": "python",
   "name": "python3"
  },
  "language_info": {
   "codemirror_mode": {
    "name": "ipython",
    "version": 3
   },
   "file_extension": ".py",
   "mimetype": "text/x-python",
   "name": "python",
   "nbconvert_exporter": "python",
   "pygments_lexer": "ipython3",
   "version": "3.10.0"
  }
 },
 "nbformat": 4,
 "nbformat_minor": 5
}
