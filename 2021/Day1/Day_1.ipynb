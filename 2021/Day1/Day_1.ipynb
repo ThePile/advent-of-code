{
 "cells": [
  {
   "cell_type": "code",
   "execution_count": 1,
   "id": "fca9efb4-dcf4-4b61-af59-601f7df5d4d4",
   "metadata": {},
   "outputs": [
    {
     "name": "stdout",
     "output_type": "stream",
     "text": [
      "1521\n"
     ]
    }
   ],
   "source": [
    "input_file = open('Day_1-input.txt', 'r')\n",
    "lines = input_file.readlines()\n",
    " \n",
    "count = 0\n",
    "# Strips the newline character\n",
    "previous = 0\n",
    "current = 0\n",
    "all_numbers = []\n",
    "for line in lines:\n",
    "    all_numbers.append(int(line))\n",
    "    if (current == 0):\n",
    "        current = int(line)\n",
    "    else:\n",
    "        previous = current\n",
    "        current = int(line)\n",
    "        if (current > previous):\n",
    "            count = count + 1\n",
    "    #print(previous, current, count)\n",
    "print(count)"
   ]
  },
  {
   "cell_type": "code",
   "execution_count": 2,
   "id": "e090e6b7-d41b-4835-a8b8-0b18c67c1969",
   "metadata": {},
   "outputs": [
    {
     "name": "stdout",
     "output_type": "stream",
     "text": [
      "1543\n"
     ]
    }
   ],
   "source": [
    "total = len(all_numbers)\n",
    "previous = 0\n",
    "current = 0\n",
    "count = 0\n",
    "for i in range(0, total-2):\n",
    "    if (current == 0):\n",
    "        current = all_numbers[i] + all_numbers[i+1] +all_numbers[i+2]\n",
    "    else:\n",
    "        previous = current\n",
    "        current = all_numbers[i] + all_numbers[i+1] +all_numbers[i+2]\n",
    "        if (current > previous):\n",
    "            count = count + 1\n",
    "    #print(all_numbers[i], all_numbers[i+1], all_numbers[i+2], previous, current, count)\n",
    "print(count)"
   ]
  },
  {
   "cell_type": "code",
   "execution_count": null,
   "id": "38ad06d3-373a-4247-af36-3669aec83ee0",
   "metadata": {},
   "outputs": [],
   "source": []
  }
 ],
 "metadata": {
  "kernelspec": {
   "display_name": "Python 3 (ipykernel)",
   "language": "python",
   "name": "python3"
  },
  "language_info": {
   "codemirror_mode": {
    "name": "ipython",
    "version": 3
   },
   "file_extension": ".py",
   "mimetype": "text/x-python",
   "name": "python",
   "nbconvert_exporter": "python",
   "pygments_lexer": "ipython3",
   "version": "3.10.0"
  }
 },
 "nbformat": 4,
 "nbformat_minor": 5
}
