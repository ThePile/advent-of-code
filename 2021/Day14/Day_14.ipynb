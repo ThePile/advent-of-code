{
 "cells": [
  {
   "cell_type": "code",
   "execution_count": 1,
   "id": "9d9c98b8-faca-4fc1-9d15-fd7c2b556525",
   "metadata": {},
   "outputs": [],
   "source": [
    "input_file = open('Input.txt', 'r')\n",
    "#input_file = open('Test.txt', 'r')\n",
    "lines = input_file.readlines()"
   ]
  },
  {
   "cell_type": "code",
   "execution_count": 2,
   "id": "04e513d7-f554-4f5c-a6b0-5e625af4cdb3",
   "metadata": {},
   "outputs": [
    {
     "name": "stdout",
     "output_type": "stream",
     "text": [
      "{'SV': 'C', 'SF': 'P', 'BP': 'V', 'HC': 'B', 'PK': 'B', 'NF': 'C', 'SN': 'N', 'PF': 'S', 'ON': 'S', 'FC': 'C', 'PN': 'P', 'SC': 'B', 'KS': 'V', 'OS': 'S', 'NC': 'C', 'VH': 'N', 'OH': 'C', 'BB': 'H', 'KV': 'V', 'HP': 'S', 'CP': 'H', 'SO': 'F', 'KK': 'N', 'OO': 'C', 'SH': 'O', 'PB': 'S', 'KP': 'H', 'OC': 'K', 'BN': 'F', 'HH': 'S', 'CH': 'B', 'PC': 'V', 'SB': 'N', 'KO': 'H', 'BH': 'B', 'SK': 'K', 'KF': 'S', 'NH': 'O', 'HN': 'V', 'VN': 'F', 'BC': 'V', 'VP': 'C', 'KN': 'H', 'PV': 'S', 'HB': 'V', 'VV': 'O', 'PO': 'B', 'FN': 'H', 'PP': 'B', 'BF': 'S', 'CB': 'S', 'NK': 'F', 'NO': 'B', 'CC': 'S', 'OF': 'C', 'HS': 'H', 'SP': 'C', 'VB': 'V', 'BK': 'S', 'CO': 'O', 'NS': 'K', 'PH': 'O', 'BV': 'B', 'CK': 'F', 'VC': 'S', 'HK': 'B', 'BO': 'K', 'HV': 'F', 'KC': 'V', 'CN': 'H', 'FS': 'V', 'VS': 'N', 'CF': 'K', 'VO': 'F', 'FH': 'H', 'NB': 'N', 'PS': 'P', 'OK': 'N', 'CV': 'O', 'CS': 'K', 'HO': 'C', 'KB': 'P', 'NN': 'V', 'KH': 'C', 'OB': 'V', 'BS': 'O', 'FB': 'H', 'FF': 'K', 'HF': 'P', 'FO': 'F', 'VF': 'F', 'OP': 'S', 'VK': 'K', 'OV': 'N', 'FK': 'H', 'FP': 'H', 'NV': 'H', 'NP': 'N', 'SS': 'C', 'FV': 'N'}\n"
     ]
    }
   ],
   "source": [
    "init = lines[0].replace(\"\\n\", \"\")\n",
    "\n",
    "rules_init = lines[2:]\n",
    "rules = {}\n",
    "for r in rules_init:\n",
    "    r = r.replace(\"\\n\", \"\")\n",
    "    rr = r.split(\" -> \")\n",
    "    rules[rr[0]] = rr[1]\n",
    "print(rules)"
   ]
  },
  {
   "cell_type": "code",
   "execution_count": 3,
   "id": "64983f67-99c8-4b58-ba67-224238f1bf2f",
   "metadata": {},
   "outputs": [],
   "source": [
    "def copy_count(count):\n",
    "    res = {}\n",
    "    for c in count:\n",
    "        res[c] = count[c]\n",
    "    return res"
   ]
  },
  {
   "cell_type": "raw",
   "id": "7d1464f3-85b5-4def-9a77-6f8cb36975d6",
   "metadata": {},
   "source": [
    "res_init = \"NBBNBNBBCCNBCNCCNBBNBBNBBBNBBNBBCBHCBHHNHCBBCBHCB\"\n",
    "count = {}\n",
    "for i in range(0, len(res_init)-1):\n",
    "    curr = res_init[i] + res_init[i+1]\n",
    "    if curr in count:\n",
    "        count[curr] = count[curr] + 1\n",
    "    else:\n",
    "        count[curr] = 1\n",
    "print(count)"
   ]
  },
  {
   "cell_type": "code",
   "execution_count": 4,
   "id": "9c0552eb-4883-430f-ab11-54ce5dbf3465",
   "metadata": {},
   "outputs": [
    {
     "name": "stdout",
     "output_type": "stream",
     "text": [
      "VNVVKSNNFPBBBVSCVBBC\n",
      "0 {'VN': 1, 'NV': 1, 'VV': 1, 'VK': 1, 'KS': 1, 'SN': 1, 'NN': 1, 'NF': 1, 'FP': 1, 'PB': 1, 'BB': 3, 'BV': 1, 'VS': 1, 'SC': 1, 'CV': 1, 'VB': 1, 'BC': 1}\n"
     ]
    }
   ],
   "source": [
    "STEP = 40\n",
    "res_init = init\n",
    "print(res_init)\n",
    "count = {}\n",
    "for i in range(0, len(res_init)-1):\n",
    "    curr = res_init[i] + res_init[i+1]\n",
    "    if curr in count:\n",
    "        count[curr] = count[curr] + 1\n",
    "    else:\n",
    "        count[curr] = 1\n",
    "new_count = count\n",
    "print(0, count)\n",
    "for s in range(0, STEP):\n",
    "    count = copy_count(new_count)\n",
    "    for c in count:\n",
    "        if count[c] > 0:\n",
    "            extra_l = rules[c]\n",
    "            new_pair1 = c[0] + extra_l\n",
    "            new_pair2 = extra_l + c[1]\n",
    "            #print(extra_l, new_pair1, new_pair2, c)\n",
    "            new_count[c] = new_count[c] - count[c]\n",
    "            if new_pair1 in new_count:\n",
    "                new_count[new_pair1] = new_count[new_pair1] + count[c]\n",
    "            else:\n",
    "                new_count[new_pair1] = count[c]\n",
    "            if new_pair2 in new_count:\n",
    "                new_count[new_pair2] = new_count[new_pair2] + count[c]\n",
    "            else:\n",
    "                new_count[new_pair2] = count[c]\n",
    "    #print(s+1, new_count)"
   ]
  },
  {
   "cell_type": "code",
   "execution_count": 5,
   "id": "8c132c02-d513-4c0b-9b30-ae1e74b8b500",
   "metadata": {},
   "outputs": [
    {
     "name": "stdout",
     "output_type": "stream",
     "text": [
      "Final {'VN': 416104078880, 'NV': 435307816053, 'VV': 393865916255, 'VK': 1, 'KS': 283368199598, 'SN': 438527544240, 'NN': 420628447501, 'NF': 69235796630, 'FP': 0, 'PB': 116973415591, 'BB': 577132638998, 'BV': 284933246900, 'VS': 226426429037, 'SC': 324638407705, 'CV': 0, 'VB': 391842147648, 'BC': 167954845270, 'VF': 613038648042, 'FN': 334583259979, 'NH': 217649818162, 'HV': 506156850682, 'VO': 196930568811, 'OV': 196930568811, 'KK': 71392991231, 'KV': 395896385681, 'NC': 69250549633, 'CF': 94311779716, 'FH': 725446572553, 'HP': 225434723142, 'PS': 467921662109, 'SB': 293899630063, 'BH': 869394294485, 'HB': 391896643962, 'NS': 113218677949, 'CO': 45166239227, 'VC': 169466664702, 'FF': 523845881276, 'HN': 185139832281, 'NO': 108822081512, 'OH': 346544481302, 'HF': 253068397411, 'FV': 253068397411, 'FO': 434652557071, 'ON': 144613845647, 'KN': 35698530421, 'NK': 138461286164, 'CC': 34629569581, 'CK': 119372058955, 'KF': 309083218713, 'HH': 950878435734, 'HS': 1176305194507, 'SP': 337157474672, 'PP': 233954114659, 'NB': 402721065345, 'OO': 22596768855, 'FK': 390849299778, 'BO': 90103636371, 'OC': 184578520620, 'CH': 292367456579, 'PF': 350972825844, 'OS': 216012593631, 'KH': 40376024545, 'CS': 144416488135, 'SF': 448889420436, 'SH': 475441376830, 'CP': 197817561721, 'BP': 116973415591, 'HK': 195430326886, 'BK': 142769845878, 'KO': 45051334307, 'OK': 92294229406, 'KC': 112483028056, 'CB': 146183064909, 'SS': 108010286388, 'SO': 237722399790, 'VP': 58484728418, 'BS': 71386683023, 'SK': 142779674253, 'HO': 22525422328, 'HC': 11262633257}\n",
      "{'V': 4932318363588, 'C': 2148528437648, 'N': 3950591077898, 'K': 2586699425104, 'S': 5614132428754, 'F': 5324891936136, 'P': 2339644036406, 'B': 4641297213032, 'H': 7836196920380, 'O': 2407142016544} {'N': 16, 'V': 16, 'K': 17, 'S': 18, 'F': 14, 'B': 15, 'P': 10, 'C': 16, 'H': 18, 'O': 16}\n",
      "1074264218824.0 3918098460190.0 {'V': 2466159181794.0, 'C': 1074264218824.0, 'N': 1975295538949.0, 'K': 1293349712552.0, 'S': 2807066214377.0, 'F': 2662445968068.0, 'P': 1169822018203.0, 'B': 2320648606516.0, 'H': 3918098460190.0, 'O': 1203571008272.0}\n",
      "2843834241366.0\n"
     ]
    }
   ],
   "source": [
    "count = {}\n",
    "count_u = {}\n",
    "count[init[0]] = 1\n",
    "count[init[-1]] = 1\n",
    "print(\"Final\", new_count)\n",
    "for c in new_count:\n",
    "    for cc in c:\n",
    "        if cc in count:\n",
    "            count[cc] = count[cc] + new_count[c]\n",
    "        else:\n",
    "            count[cc] = new_count[c]\n",
    "    if (new_count[c] > 0):\n",
    "        if c[1] in count_u:\n",
    "            count_u[c[1]] = count_u[c[1]] + 1\n",
    "        else:\n",
    "            count_u[c[1]] = 1\n",
    "        if c[0] in count_u:\n",
    "            count_u[c[0]] = count_u[c[0]] + 1\n",
    "        else:\n",
    "            count_u[c[0]] = 1\n",
    "print(count, count_u)\n",
    "for c in count:\n",
    "    count[c] = count[c]/2\n",
    "max_c = 0\n",
    "min_c = 9918098460190\n",
    "for c in count:\n",
    "    if (count[c] > max_c):\n",
    "        max_c = count[c]\n",
    "    if (count[c] < min_c):\n",
    "        min_c = count[c]\n",
    "print(min_c, max_c, count)\n",
    "print(max_c - min_c)"
   ]
  },
  {
   "cell_type": "raw",
   "id": "0c92cd89-a6b4-4106-babb-b26b775f6e27",
   "metadata": {},
   "source": [
    "STEP = 10\n",
    "res_init = init\n",
    "print(0, res_init)\n",
    "for s in range(0, STEP):\n",
    "    res = \"\"\n",
    "    for i in range(0, len(res_init)-1):\n",
    "        curr = res_init[i] + res_init[i+1]\n",
    "        #print(curr)\n",
    "        res = res + res_init[i] + rules[curr]\n",
    "    res = res + res_init[-1]\n",
    "    #print(s+1, res)\n",
    "    res_init = res"
   ]
  },
  {
   "cell_type": "raw",
   "id": "65f1c9a2-48c7-4b5f-ae32-dc28f1da0c06",
   "metadata": {},
   "source": [
    "count = {}\n",
    "for r in res_init:\n",
    "    if r in count:\n",
    "        count[r] = count[r] + 1\n",
    "    else:\n",
    "        count[r] = 1\n",
    "max_c = 0\n",
    "min_c = 99999999999\n",
    "for c in count:\n",
    "    if (count[c] > max_c):\n",
    "        max_c = count[c]\n",
    "    if (count[c] < min_c):\n",
    "        min_c = count[c]\n",
    "print(min_c, max_c, count)\n",
    "print(max_c - min_c)"
   ]
  },
  {
   "cell_type": "code",
   "execution_count": null,
   "id": "a15a81db-8ce5-452c-910a-c3b2c9f80eb9",
   "metadata": {},
   "outputs": [],
   "source": []
  }
 ],
 "metadata": {
  "kernelspec": {
   "display_name": "Python 3 (ipykernel)",
   "language": "python",
   "name": "python3"
  },
  "language_info": {
   "codemirror_mode": {
    "name": "ipython",
    "version": 3
   },
   "file_extension": ".py",
   "mimetype": "text/x-python",
   "name": "python",
   "nbconvert_exporter": "python",
   "pygments_lexer": "ipython3",
   "version": "3.10.0"
  }
 },
 "nbformat": 4,
 "nbformat_minor": 5
}
