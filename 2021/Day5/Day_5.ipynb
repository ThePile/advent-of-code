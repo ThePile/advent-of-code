{
 "cells": [
  {
   "cell_type": "code",
   "execution_count": 1,
   "id": "96d6e119-b6bf-43ac-ac39-c28fc1119fab",
   "metadata": {},
   "outputs": [
    {
     "name": "stdout",
     "output_type": "stream",
     "text": [
      "6856\n"
     ]
    }
   ],
   "source": [
    "input_file = open('Input.txt', 'r')\n",
    "#input_file = open('Test.txt', 'r')\n",
    "lines = input_file.readlines()\n",
    "\n",
    "SIZE =  1000 # 10 # 1000\n",
    "\n",
    "table = [[0 for x in range(0, SIZE)] for y in range(0, SIZE) ]\n",
    "for line in lines:\n",
    "    line = line.replace(\"\\n\",\"\").replace(\" -> \",\",\")\n",
    "    coords = line.split(\",\")\n",
    "\n",
    "    for i in range(0,4):\n",
    "        coords[i] = int(coords[i])\n",
    "    #print(coords)\n",
    "    if (coords[0] == coords[2] or coords[1] == coords[3]):\n",
    "        #print(\"OK\")\n",
    "        if (coords[0] == coords[2]):\n",
    "            beg = coords[1] if coords[1]<coords[3] else coords[3]\n",
    "            end = coords[3] if coords[1]<coords[3] else coords[1]\n",
    "            #print(beg, end)\n",
    "            for i in range(beg, end+1):\n",
    "                table[coords[0]][i] = table[coords[0]][i] +1\n",
    "        else:\n",
    "            beg = coords[0] if coords[0]<coords[2] else coords[2]\n",
    "            end = coords[2] if coords[0]<coords[2] else coords[0]\n",
    "            #print(beg, end)\n",
    "            for i in range(beg, end+1):\n",
    "                table[i][coords[1]] = table[i][coords[1]] + 1\n",
    "#print(table)\n",
    "result = 0\n",
    "for i in range(0, SIZE):\n",
    "    for j in range(0, SIZE):\n",
    "        if (table[i][j] > 1):\n",
    "            result = result + 1\n",
    "print(result)"
   ]
  },
  {
   "cell_type": "code",
   "execution_count": 4,
   "id": "5c8f0865-a8e3-4c6a-8a52-c40919d32737",
   "metadata": {},
   "outputs": [
    {
     "name": "stdout",
     "output_type": "stream",
     "text": [
      "20666\n"
     ]
    }
   ],
   "source": [
    "input_file = open('Input.txt', 'r')\n",
    "#input_file = open('Test.txt', 'r')\n",
    "lines = input_file.readlines()\n",
    "\n",
    "SIZE = 1000 # 10 #1000 # 10 # 1000\n",
    "\n",
    "table = [[0 for x in range(0, SIZE)] for y in range(0, SIZE) ]\n",
    "for line in lines:\n",
    "    line = line.replace(\"\\n\",\"\").replace(\" -> \",\",\")\n",
    "    coords = line.split(\",\")\n",
    "\n",
    "    for i in range(0,4):\n",
    "        coords[i] = int(coords[i])\n",
    "    #print(coords)\n",
    "    if (coords[0] == coords[2] or coords[1] == coords[3]):\n",
    "        if (coords[0] == coords[2]):\n",
    "            beg = coords[1] if coords[1]<coords[3] else coords[3]\n",
    "            end = coords[3] if coords[1]<coords[3] else coords[1]\n",
    "            #print(beg, end)\n",
    "            for i in range(beg, end+1):\n",
    "                table[coords[0]][i] = table[coords[0]][i] +1\n",
    "        else:\n",
    "            beg = coords[0] if coords[0]<coords[2] else coords[2]\n",
    "            end = coords[2] if coords[0]<coords[2] else coords[0]\n",
    "            #print(beg, end)\n",
    "            for i in range(beg, end+1):\n",
    "                table[i][coords[1]] = table[i][coords[1]] + 1\n",
    "    else:\n",
    "        cptY = 1 if coords[1]<coords[3] else -1\n",
    "        cptX = 1 if coords[0]<coords[2] else -1\n",
    "        #print(coords[0], coords[1], coords[2], coords[3], cptX, cptY)\n",
    "        countX = 0\n",
    "        for i in range(coords[0], coords[2]+cptX, cptX):\n",
    "            countY = 0\n",
    "            for j in range(coords[1], coords[3]+cptY, cptY):                \n",
    "                if (countX == countY):\n",
    "                    table[i][j] = table[i][j] + 1\n",
    "                    #print(i,j)\n",
    "                countY = countY + 1\n",
    "            countX = countX + 1\n",
    "#print(table)\n",
    "result = 0\n",
    "for i in range(0, SIZE):\n",
    "    for j in range(0, SIZE):\n",
    "        if (table[i][j] > 1):\n",
    "            result = result + 1\n",
    "print(result)"
   ]
  },
  {
   "cell_type": "code",
   "execution_count": null,
   "id": "258714a5-c461-42d1-85c2-da62e6d64a96",
   "metadata": {},
   "outputs": [],
   "source": []
  }
 ],
 "metadata": {
  "kernelspec": {
   "display_name": "Python 3 (ipykernel)",
   "language": "python",
   "name": "python3"
  },
  "language_info": {
   "codemirror_mode": {
    "name": "ipython",
    "version": 3
   },
   "file_extension": ".py",
   "mimetype": "text/x-python",
   "name": "python",
   "nbconvert_exporter": "python",
   "pygments_lexer": "ipython3",
   "version": "3.10.0"
  }
 },
 "nbformat": 4,
 "nbformat_minor": 5
}
