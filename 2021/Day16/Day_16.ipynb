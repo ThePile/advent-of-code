{
 "cells": [
  {
   "cell_type": "code",
   "execution_count": 1,
   "id": "c94a5798-ca4b-405d-96e6-c41f15365831",
   "metadata": {},
   "outputs": [],
   "source": [
    "hexa = { '0': '0000', '1': '0001', '2': '0010', '3': '0011', '4': '0100',\n",
    "       '5': '0101', '6': '0110', '7': '0111', '8': '1000', '9': '1001', 'A': '1010',\n",
    "       'B': '1011', 'C': '1100', 'D': '1101', 'E': '1110', 'F': '1111'}"
   ]
  },
  {
   "cell_type": "code",
   "execution_count": 2,
   "id": "d1791d7c-8af1-4ecd-a96c-1ccb540a954d",
   "metadata": {},
   "outputs": [],
   "source": [
    "hexa_reverse = { '0000': '0', '0001' : '1', '0010': '2' , '0011': '3', '0100': '4',\n",
    "       '0101' : '5', '0110' : '6', '0111':'7', '1000': '8', '1001': '9', '1010': 'A',\n",
    "       '1011' : 'B', '1100': 'C', '1101' : 'D', '1110' : 'E',  '1111' : 'F'}"
   ]
  },
  {
   "cell_type": "code",
   "execution_count": 3,
   "id": "0fe5b761-8d53-420f-afda-787799915c09",
   "metadata": {},
   "outputs": [],
   "source": [
    "def convert_to_bin(hexa_in):\n",
    "    res = \"\"\n",
    "    for h in hexa_in:\n",
    "        res = res + hexa[h]\n",
    "    print(res)\n",
    "    return res"
   ]
  },
  {
   "cell_type": "code",
   "execution_count": 9,
   "id": "1d2903fd-4c10-4cc4-a202-5d4b0f1598cb",
   "metadata": {},
   "outputs": [],
   "source": [
    "def decode(msg_in):\n",
    "    typeID = int(msg_in[3:6],2)\n",
    "    if typeID == 4:\n",
    "        return decode_value(msg_in)\n",
    "    else:\n",
    "        return decode_operator(msg_in)"
   ]
  },
  {
   "cell_type": "code",
   "execution_count": 10,
   "id": "f35c076d-a424-4fe9-b361-f798147b17c6",
   "metadata": {},
   "outputs": [],
   "source": [
    "def decode_value(msg_in):\n",
    "    version = int(msg_in[0:3], 2)\n",
    "    typeID = int(msg_in[3:6],2) # Type 4 = Value / Other than 4: Operator\n",
    "    A = msg_in[7:11]\n",
    "    B = msg_in[12:16]\n",
    "    C = msg_in[17:21] # todo loop until packet start by 0, last group)\n",
    "    return version, typeID, A, B, C"
   ]
  },
  {
   "cell_type": "code",
   "execution_count": 11,
   "id": "8b76d95f-49b5-4809-bc43-4086b1758b03",
   "metadata": {},
   "outputs": [
    {
     "name": "stdout",
     "output_type": "stream",
     "text": [
      "110100101111111000101000\n"
     ]
    },
    {
     "data": {
      "text/plain": [
       "2021"
      ]
     },
     "execution_count": 11,
     "metadata": {},
     "output_type": "execute_result"
    }
   ],
   "source": [
    "version, typeID, A, B, C = decode(convert_to_bin('D2FE28'))\n",
    "int(A+B+C,2)"
   ]
  },
  {
   "cell_type": "code",
   "execution_count": 12,
   "id": "f7675d06-1773-48cc-958e-33a9a74f0fad",
   "metadata": {},
   "outputs": [],
   "source": [
    "def decode_operator(msg_in):\n",
    "    version = int(msg_in[0:3], 2)\n",
    "    typeID = int(msg_in[3:6],2) # Type != 4 = Operator\n",
    "    lengthTypeID = msg_in[6:7]\n",
    "    if (lengthTypeID == '0'):\n",
    "        length = int(msg_in[7:22], 2)\n",
    "        sub_packets = []\n",
    "    else:\n",
    "        length = int(msg_in[7:18], 2)\n",
    "        sub_packets = []\n",
    "        for i in range(0, length):\n",
    "            sub_packets.append(int(msg_in[18+i*11:29+i*11], 2))\n",
    "    return version, typeID, lengthTypeID, length, sub_packets"
   ]
  },
  {
   "cell_type": "code",
   "execution_count": 13,
   "id": "0340c7e9-d14d-46d9-87a8-bb1b789d1f73",
   "metadata": {},
   "outputs": [
    {
     "name": "stdout",
     "output_type": "stream",
     "text": [
      "00111000000000000110111101000101001010010001001000000000\n"
     ]
    },
    {
     "data": {
      "text/plain": [
       "(1, 6, '0', 27, [])"
      ]
     },
     "execution_count": 13,
     "metadata": {},
     "output_type": "execute_result"
    }
   ],
   "source": [
    "decode(convert_to_bin('38006F45291200'))"
   ]
  },
  {
   "cell_type": "code",
   "execution_count": null,
   "id": "b5aa980d-7acb-474c-8568-e950f1e7d47f",
   "metadata": {},
   "outputs": [],
   "source": [
    "decode(convert_to_bin('EE00D40C823060'))"
   ]
  },
  {
   "cell_type": "code",
   "execution_count": null,
   "id": "70423f29-e8ac-4b47-9312-869ad3f47fd3",
   "metadata": {},
   "outputs": [],
   "source": []
  },
  {
   "cell_type": "code",
   "execution_count": null,
   "id": "eade2bfa-9d54-4b2f-8a87-f46be89fcfe7",
   "metadata": {},
   "outputs": [],
   "source": []
  }
 ],
 "metadata": {
  "kernelspec": {
   "display_name": "Python 3 (ipykernel)",
   "language": "python",
   "name": "python3"
  },
  "language_info": {
   "codemirror_mode": {
    "name": "ipython",
    "version": 3
   },
   "file_extension": ".py",
   "mimetype": "text/x-python",
   "name": "python",
   "nbconvert_exporter": "python",
   "pygments_lexer": "ipython3",
   "version": "3.10.0"
  }
 },
 "nbformat": 4,
 "nbformat_minor": 5
}
