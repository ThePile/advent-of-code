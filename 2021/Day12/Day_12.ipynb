{
 "cells": [
  {
   "cell_type": "code",
   "execution_count": null,
   "id": "7efb8a5a-c8df-4475-bf34-fc3e894c9a34",
   "metadata": {},
   "outputs": [],
   "source": [
    "input_file = open('Input.txt', 'r')\n",
    "#input_file = open('Test3.txt', 'r')\n",
    "#input_file = open('Test3.txt', 'r')\n",
    "lines = input_file.readlines()"
   ]
  },
  {
   "cell_type": "code",
   "execution_count": null,
   "id": "2d3dd701-fb0f-4b12-8ddd-11c87016f098",
   "metadata": {},
   "outputs": [],
   "source": [
    "paths = []\n",
    "for l in lines:\n",
    "    line = l.replace(\"\\n\", \"\")\n",
    "    points = line.split(\"-\")\n",
    "    paths.append({\"P1\": points[0], \"P2\": points[1]})\n",
    "    paths.append({\"P1\": points[1], \"P2\": points[0]})"
   ]
  },
  {
   "cell_type": "code",
   "execution_count": null,
   "id": "1a4a1f28-6d7c-4c2a-9fa9-bf917e37f3d9",
   "metadata": {},
   "outputs": [],
   "source": [
    "START = \"start\"\n",
    "END = \"end\""
   ]
  },
  {
   "cell_type": "code",
   "execution_count": null,
   "id": "eb2223da-a855-44f5-82f4-e7cdd3ca5621",
   "metadata": {},
   "outputs": [],
   "source": [
    "def check_more_than_once(point, path):\n",
    "    count = { point: 1 }\n",
    "    for p in path:\n",
    "        if (p.lower() == p and p != START and p != END):\n",
    "            if p in count:\n",
    "                count[p] = count[p] + 1\n",
    "            else:\n",
    "                count[p] = 1\n",
    "    total = 0\n",
    "    for c in count:\n",
    "        if count[c] == 2:\n",
    "            total = total + 1\n",
    "    #print(total, count, point, path)\n",
    "    if total > 1:\n",
    "        return True\n",
    "    else:\n",
    "        return False\n",
    "            "
   ]
  },
  {
   "cell_type": "code",
   "execution_count": null,
   "id": "bea31ae6-8c84-4a70-9752-8ae2047b385f",
   "metadata": {},
   "outputs": [],
   "source": [
    "def check_already(point, path):\n",
    "    if (point.upper() == point):\n",
    "        return False\n",
    "    else:\n",
    "        if (point in path):\n",
    "            cpt = 0\n",
    "            for p in path:\n",
    "                if p == point:\n",
    "                    cpt = cpt + 1\n",
    "            if cpt == 0:\n",
    "                return False\n",
    "            else:\n",
    "                if cpt == 1:\n",
    "                    return check_more_than_once(point, path)\n",
    "                else:\n",
    "                    return True\n",
    "        else:\n",
    "            return False"
   ]
  },
  {
   "cell_type": "code",
   "execution_count": null,
   "id": "0571e64c-ab76-4c01-863b-018de872640e",
   "metadata": {},
   "outputs": [],
   "source": [
    "def check_next(start_point):\n",
    "    res = []\n",
    "    for p in paths:\n",
    "        if (p['P1'] == start_point and p['P2'] != START):\n",
    "            res.append(p['P2'])\n",
    "    return res"
   ]
  },
  {
   "cell_type": "code",
   "execution_count": null,
   "id": "915b7ec3-6cbf-4e9a-af30-0471756a8024",
   "metadata": {},
   "outputs": [],
   "source": [
    "def dup(path_in):\n",
    "    res = []\n",
    "    for i in path_in:\n",
    "        res.append(i)\n",
    "    return res"
   ]
  },
  {
   "cell_type": "code",
   "execution_count": null,
   "id": "5d14eeed-1613-40b5-9b70-8e291ed6ddcb",
   "metadata": {},
   "outputs": [],
   "source": [
    "init = check_next(START)\n",
    "all_paths = []\n",
    "for i in init:\n",
    "    tmp = [START, i]\n",
    "    all_paths.append(tmp)\n",
    "print(all_paths)\n",
    "print(\"---\")\n",
    "more = True\n",
    "while more == True:\n",
    "    new_paths = []\n",
    "    more = False\n",
    "    for p in all_paths:\n",
    "        last = p[-1]\n",
    "        #print(\"Current\", p)\n",
    "        if last != END:\n",
    "            next_points = check_next(last)\n",
    "            #print(\"Next\", next_points)\n",
    "            for n in next_points:\n",
    "                #print(\"Check\", check_already(n, p))\n",
    "                if check_already(n, p) == False:\n",
    "                    tmp = dup(p)\n",
    "                    tmp.append(n)\n",
    "                    new_paths.append(tmp)\n",
    "                    more = True\n",
    "        else:\n",
    "            new_paths.append(p)\n",
    "        #print(\"NEW\", new_paths)\n",
    "    all_paths = new_paths\n",
    "    #print(\"Next step\")\n",
    "print(len(all_paths))\n",
    "for p in  all_paths:\n",
    "    print(p)"
   ]
  },
  {
   "cell_type": "code",
   "execution_count": null,
   "id": "26e342d5-dec1-4641-abca-1f31c57183da",
   "metadata": {},
   "outputs": [],
   "source": []
  }
 ],
 "metadata": {
  "kernelspec": {
   "display_name": "Python 3 (ipykernel)",
   "language": "python",
   "name": "python3"
  },
  "language_info": {
   "codemirror_mode": {
    "name": "ipython",
    "version": 3
   },
   "file_extension": ".py",
   "mimetype": "text/x-python",
   "name": "python",
   "nbconvert_exporter": "python",
   "pygments_lexer": "ipython3",
   "version": "3.10.0"
  }
 },
 "nbformat": 4,
 "nbformat_minor": 5
}
